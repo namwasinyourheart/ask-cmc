{
 "cells": [
  {
   "cell_type": "markdown",
   "metadata": {},
   "source": [
    "https://www.youtube.com/watch?v=bupx08ZgSFg"
   ]
  },
  {
   "cell_type": "code",
   "execution_count": 1,
   "metadata": {},
   "outputs": [
    {
     "name": "stdout",
     "output_type": "stream",
     "text": [
      "E:\\projects\\ask-cmc\n"
     ]
    }
   ],
   "source": [
    "cd E:\\projects\\ask-cmc\\"
   ]
  },
  {
   "cell_type": "code",
   "execution_count": 2,
   "metadata": {},
   "outputs": [
    {
     "data": {
      "text/plain": [
       "True"
      ]
     },
     "execution_count": 2,
     "metadata": {},
     "output_type": "execute_result"
    }
   ],
   "source": [
    "from dotenv import load_dotenv\n",
    "load_dotenv()"
   ]
  },
  {
   "cell_type": "code",
   "execution_count": 3,
   "metadata": {},
   "outputs": [],
   "source": [
    "from src.chain import *"
   ]
  },
  {
   "cell_type": "code",
   "execution_count": 4,
   "metadata": {},
   "outputs": [],
   "source": [
    "urls = ['https://cmcglobal.com.vn/vi/ve-chung-toi/']"
   ]
  },
  {
   "cell_type": "code",
   "execution_count": 5,
   "metadata": {},
   "outputs": [
    {
     "data": {
      "text/plain": [
       "[Document(metadata={'source': 'https://cmcglobal.com.vn/vi/ve-chung-toi/', 'title': 'About us vi - CMC Global', 'description': 'CMC Global là đối tác công nghệ đáng tin cậy với hơn 30 năm kinh nghiệm. Đội ngũ chuyên gia của chúng tôi cung cấp các giải pháp đổi mới để giúp doanh nghiệp phát triển trong thế giới số. Tìm hiểu thêm về sứ mệnh và giá trị của chúng tôi. Liên hệ với chúng tôi ngay hôm nay.', 'language': 'vi'}, page_content=\"\\n\\n\\n\\n\\n\\n\\n\\n\\n\\n\\n\\nAbout us vi - CMC Global\\n\\n\\n\\n\\n\\n\\n\\n\\n\\n\\n\\n\\n\\n\\n\\n\\n\\n\\n\\n\\n\\n\\n\\n\\n\\n\\n\\n\\n\\n\\n\\n\\n\\n\\n\\n\\n\\n\\n\\n\\n\\n\\n\\n\\n\\n\\n\\n\\n\\n\\n\\n\\n\\n\\n\\n\\n\\n\\n\\n\\n\\n\\n\\n\\n\\n\\n\\n\\n\\n\\n\\n\\n\\n\\n\\n\\n\\n\\n\\n\\n\\n\\n\\n\\n\\n\\n\\n\\n\\n\\n\\n\\n\\n\\n\\n\\n\\n\\n\\n\\n\\n\\n\\n\\n\\n\\n\\n\\n\\n\\n\\n\\n\\n\\nDịch vụ\\n\\nKỹ thuật phần mềm đẳng cấp thế giới\\n\\nPhát triển phần mềm theo yêu cầu\\nBảo trì phần mềm\\nLegacy Migration\\nDịch vụ kiểm thử phần mềm\\n\\n\\nDịch vụ chuyển đổi số\\n\\nDịch vụ quản lý đám mây\\nData, Analytics & AI\\n\\nData & Analytics\\nTư vấn AI & Tích hợp\\n\\n\\nDịch vụ RPA\\nLow Code\\n\\n\\nGiải pháp toàn diện\\n\\nIoT smart device – CIVAMs face\\nCMC Social Listening\\nCMC Chatbot\\nC-ID Reader\\nC-CA\\nSOC\\n\\n\\nMô hình\\n\\nProject-based\\nStaff Augmentation\\nHybrid\\nResults-based\\n\\n\\n\\n\\nDự án\\n\\nCâu chuyện thành công\\nNgành/Lĩnh vực\\n\\nTài chính ngân hàng\\nCông nghệ ô tô\\nLogistics\\nSản xuất\\nY tế\\nTruyền thông & Giải trí\\nCông nghệ tài chính\\n\\n\\nQuy mô doanh nghiệp\\n\\nStartup\\nSME\\nEnterprise\\n\\n\\n\\n\\nVề chúng tôi\\n\\nCMC Global\\nCMC Corporation\\nCompany profile\\n\\n\\nTài nguyên\\n\\nBlog\\nEbooks & Whitepapers\\nTin tức & Sự kiện\\n\\n\\n\\n\\nTuyển dụng\\nLiên hệ\\n \\n\\n\\n\\n\\nEnglish\\nTiếng Việt\\nJapanese\\nKorean\\n\\n \\n\\n\\n\\n\\n\\n\\n\\n\\n\\n\\n\\n\\n\\n\\n\\n\\n\\nDịch vụ\\n\\nKỹ thuật phần mềm đẳng cấp thế giới\\n\\nPhát triển phần mềm theo yêu cầu\\nBảo trì phần mềm\\nLegacy Migration\\nDịch vụ kiểm thử phần mềm\\n\\n\\nDịch vụ chuyển đổi số\\n\\nDịch vụ quản lý đám mây\\nData, Analytics & AI\\n\\nData & Analytics\\nTư vấn AI & Tích hợp\\n\\n\\nDịch vụ RPA\\nLow Code\\n\\n\\nGiải pháp toàn diện\\n\\nIoT smart device – CIVAMs face\\nCMC Social Listening\\nCMC Chatbot\\nC-ID Reader\\nC-CA\\nSOC\\n\\n\\nMô hình\\n\\nProject-based\\nStaff Augmentation\\nHybrid\\nResults-based\\n\\n\\n\\n\\nDự án\\n\\nCâu chuyện thành công\\nNgành/Lĩnh vực\\n\\nTài chính ngân hàng\\nCông nghệ ô tô\\nLogistics\\nSản xuất\\nY tế\\nTruyền thông & Giải trí\\nCông nghệ tài chính\\n\\n\\nQuy mô doanh nghiệp\\n\\nStartup\\nSME\\nEnterprise\\n\\n\\n\\n\\nVề chúng tôi\\n\\nCMC Global\\nCMC Corporation\\nCompany profile\\n\\n\\nTài nguyên\\n\\nBlog\\nEbooks & Whitepapers\\nTin tức & Sự kiện\\n\\n\\n\\n\\n\\n\\nTuyển dụng\\nLiên hệ\\n \\n\\n\\n\\nEnglish\\nTiếng Việt\\nJapanese\\nKorean\\n\\n \\n\\n\\n\\n\\n\\n\\n\\n\\n\\nCMC GLOBAL\\n\\n\\nAspire to inspire the Digital World\\nAspire to inspire the Digital World\\nAspire to inspire the Digital World\\nAspire to inspire the Digital World\\nAspire to inspire the Digital World\\nAspire to inspire the Digital World\\nAspire to inspire the Digital World\\nAspire to inspire the Digital World\\nAspire to inspire the Digital World\\nAspire to inspire the Digital World\\nAspire to inspire the Digital World\\nAspire to inspire the Digital World\\n\\n\\n\\n\\n            VỀ CHÚNG TÔI        \\n\\n\\n\\n\\n\\n01\\nSỨ MỆNH & TẦM NHÌN\\n\\n\\n02\\nLỊCH SỬ\\n\\n\\n03\\nGIÁ TRỊ CỐT LÕI\\n\\n\\n04\\nTHÀNH TỰU\\n\\n\\n05\\nBAN LÃNH ĐẠO\\n\\n\\n06\\nGIẢI THƯỞNG & CHỨNG NHẬN\\n\\n\\n07\\nTRỤ SỞ & VĂN PHÒNG\\n\\n\\n\\n\\n\\n\\n\\n                            SỨ MỆNH & TẦM NHÌN                        \\n\\n                            Tầm nhìn                        \\n\\n                            Với khát khao và đam mê, CMC Global định hướng trở thành công ty dịch vụ IT hàng đầu tại Việt Nam, top 10 trong khu vực và là đơn vị đứng đầu về năng lực triển khai các giải pháp công nghệ mới như AI, Cloud và chuyển đổi số.                        \\n\\n                            Sứ mệnh                        \\n\\n                            Tạo ra dịch vụ đạt chuẩn quốc tế, hiện diện trên toàn cầu. Chúng tôi tập trung vào việc liên tục đổi mới các giá trị cốt lõi về chất lượng nguồn nhân lực, quy trình làm việc-vận hành thuần thục, tương tác đa chiều, chất lượng bảo mật tiêu chuẩn toàn cầu cao và cơ sở hạ tầng CNTT tiên tiến, cập nhật.                        \\n\\n\\n\\n\\n\\n                            LỊCH SỬ                        \\n\\n                            Chúng Tôi Tự Hào Là Thành Viên Của Tập Đoàn CMC                        \\n\\n                            2016                        \\n\\n                            CMC Global tiền thân là một bộ phận của CMC Corp chuyên cung cấp dịch vụ gia công phần mềm CNTT với chỉ 50 nhân viên.                        \\n\\n                            Tháng 3, 2017                        \\n\\n                            Công ty TNHH CMC Global được thành lập như mảng kinh doanh chủ lực của Tập đoàn nhằm đưa các sản phẩm công nghệ cao và dịch vụ CNTT ra thị trường toàn cầu.                        \\n\\n                            Tháng 8, 2017                        \\n\\n                            CMC Global mở chi nhánh đầu tiên tại Yokohama, Nhật Bản - CMC Japan.                        \\n\\n                            Tháng 4, 2019                        \\n\\n                            CMC Global nhận giải thưởng Sao Khuê đầu tiên cho hạng mục “Dịch vụ xuất khẩu phần mềm”.                        \\n\\n                            Tháng 7, 2019                        \\n\\n                            CMC Global mở chi nhánh tại Hồ Chí Minh, mở rộng ra thị trường phía Nam Việt Nam.                        \\n\\n                            Tháng 10, 2019                        \\n\\n                            CMC Global mở chinh nhánh ở Đà Nẵng, ghi dấu chân tại thị trường miền Trung.                        \\n\\n                            Tháng 5, 2020                        \\n\\n                            \\n                            - CMC Global nhận giải thưởng Sao Khuê lần thứ 2 cho hạng mục “Dịch vụ xuất khẩu phần mềm”. \\n                            - Công ty thành lập văn phòng mới tại Hà Nội, đánh dấu cột mốc 1000 nhân viên.\\n                        \\n\\n                            Tháng 8, 2020                        \\n\\n                            CMC APAC, do CMC Global thành lập, đã có một bước tiến đáng chú ý vào thị trường dịch vụ ICT (Công nghệ thông tin & Truyền thông) của Singapore.                        \\n\\n                            Tháng 9, 2021                        \\n\\n                            Khai trương văn phòng thứ hai tại Nhật Bản, trụ sở tại Osaka.                        \\n\\n                            Tháng 10, 2021                        \\n\\n                            CMC Global tự hào nhận Giải thưởng TOP 10 Doanh nghiệp Gia công Phần mềm và Dịch vụ CNTT năm 2021 do Hiệp hội Phần mềm và Dịch vụ CNTT Việt Nam (VINASA) tổ chức                        \\n\\n                            2022                        \\n\\n                            CMC APAC chính thức ghi dấu ấn với văn phòng mới tại Singapore.                        \\n\\n                            Tháng 4, 2022                        \\n\\n                            CMC Global nhận Danh hiệu Sao Khuê 2022 hạng mục “Dịch vụ Xuất khẩu phần mềm”.                        \\n\\n                            Tháng 5, 2022                        \\n\\n                            CMC Global khai trương văn phòng mới tại CMC Creative Space, tọa lạc tại phường Tân Thuận – nơi được mệnh danh là “Thung lũng Silicon” TP.HCM.                        \\n\\n\\n\\n\\n\\n                            GIÁ TRỊ CỐT LÕI                        \\n\\n                        Mọi hành động của người CMC đều xuất phát từ trái tim  Hướng Khách Hàng. Bằng khát khao và đam mê Sáng Tạo không ngừng nghỉ, người CMC quyết tâm vươn tới tốc độ nhanh nhất. Tốc Độ Ánh Sáng trong cả tư duy và hành động để truyền cảm hứng và thực hiện tốt những Cam Kết của mình.                        \\n\\n\\n\\n\\n\\n\\n\\n                                        Hướng Khách Hàng                                    \\n\\n                                    CMC Global luôn ưu tiên khách hàng và sở thích của họ với các dịch vụ phù hợp với nhu cầu và nhu cầu cụ thể, mang lại trải nghiệm trên tất cả mong đợi. Chúng tôi tin rằng, bằng việc không ngừng gia tăng các giá trị dịch vụ, chúng tôi sẽ nhận được sự tin tưởng và tin tưởng lâu dài từ các đối tác.                                    \\n\\n                                        Hướng Khách Hàng                                    \\n\\n\\n\\n\\n\\n                                        C-Speed                                    \\n\\n                                        CMC Global tạo ra lợi thế cạnh tranh thông qua phản hồi nhanh chóng và cung cấp dịch vụ nhanh chóng của chúng tôi. Chúng tôi luôn nô lực mang đến những sản phẩm và dịch vụ vượt trội cho đối tác trong thời gian ngắn nhất có thể. Tại CMC Global, chúng tôi tin rằng Tốc độ là chìa khóa thành công.                                    \\n\\n                                        C-Speed                                    \\n\\n\\n\\n\\n\\n\\n\\n\\n                                        Sáng Tạo                                    \\n\\n                                        Sự sáng tạo tại CMC Global không chỉ được phản ánh trong một loạt các sản phẩm và giải pháp CNTT tiên tiến của chúng tôi, mà còn trong các mô hình phân phối và phương pháp triển khai sáng tạo của chúng tôi khác biệt với bất kỳ đối thủ cạnh tranh nào trên thị trường.                                    \\n\\n\\n\\n\\n\\n                                        Cam Kết                                    \\n\\n                                        CMC Global cam kết biến ý tưởng và tầm nhìn của khách hàng thành hiện thực thông qua các thỏa thuận và hợp tác chung. Cam kết này còn được phản ánh trong tính toàn vẹn trong tất cả các dự án và hoạt động của chúng tôi, đảm bảo chất lượng dịch vụ tốt nhất và theo kịp tiến độ thực hiện.                                    \\n\\n\\n\\n\\n\\n\\n\\n                            THÀNH TỰU                        \\n\\n                            CMC Global được các Đối Tác Chiến Lược Tin Tưởng Giao Phó                        \\n\\n\\n\\n\\n\\n\\n\\n\\n\\n\\n\\n\\n\\n\\n\\n\\n\\n\\n\\n\\n\\n\\n\\n\\n\\n\\n\\n\\n\\n\\n31+\\n                                \\n\\n                                    Năm kinh nghiệm                                \\n\\n\\n\\n3000+\\n                                \\n\\n                                    Chuyên gia được chứng nhận                                \\n\\n\\n\\n300+\\n                                \\n\\n                                    Khách hàng quốc tế                                \\n\\n\\n\\n35+\\n                                \\n\\n                                    Đối tác kinh doanh                                \\n\\n\\n\\n30+\\n                                \\n\\n                                    Quốc gia                                \\n\\n\\n\\n\\n\\n\\n                            BAN LÃNH ĐẠO                        \\n\\n                            Chúng Tôi Tự Hào Là Thành Viên Của Tập Đoàn CMC                        \\n\\n\\n\\n\\n\\n\\n\\nÔng Hồ Thanh Tùng\\nTổng giám đốc Tập đoàn CMC/Chủ tịch công ty CMC Global\\n\\n\\n\\n\\n\\n\\n\\n\\n\\n\\n\\n\\n\\nÔng Đặng Ngọc Bảo\\nTổng Giám đốc CMC Global\\n\\n\\n\\n\\n\\n\\n\\n\\n\\n\\n\\n\\n\\nÔng Nguyễn Việt Bách\\nPhó Chủ tịch/ Giám đốc Sản xuất CMC Global\\n\\n\\n\\n\\n\\n\\n\\n\\n\\n\\n\\n\\n\\nBà Hoàng Thị Thanh Hoa\\nGiám đốc Tài chính CMC Global\\n\\n\\n\\n\\n\\n\\n\\n\\n\\n\\n\\n\\n\\nÔng Đặng Văn Tú\\nGiám đốc công nghệ CMC Global\\n\\n\\n\\n\\n\\n\\n\\n\\n\\n\\n\\n\\n\\nPrevious\\n\\n\\n\\nNext\\n\\n\\n\\n\\n\\n\\n\\n\\n\\n\\n\\n\\n\\n\\n\\n\\n\\n\\nGIẢI THƯỞNG\\n\\n                                Chúng Tôi Cung Cấp Dịch Vụ Được Chứng Nhận bởi Các Giải Thưởng Danh Giá                            \\n\\n                                Trong các năm 2019, 2020 và 2022, CMC Global liên tiếp giành được Giải thưởng Sao Khuê cho hạng mục “Dịch vụ Gia công phần mềm CNTT”. Nằm trong Top 100 Nơi làm việc tốt nhất Việt Nam, chúng tôi tự hào được Tạp chí HR Asia vinh danh là “Nơi làm việc tốt nhất Châu Á 2020” và tầm cỡ của các dịch vụ của chúng tôi cho các đối tác của chúng tôi.                            \\n\\n\\n\\n\\n\\n\\n\\n\\n\\n\\n\\n\\n\\n\\n\\n\\n\\n\\n\\n\\n\\n\\n\\n\\n\\n\\n\\n\\n\\n\\n\\n\\n\\n\\n\\n\\n\\n\\n\\n\\n\\n\\n\\n\\n\\n\\n\\n\\n\\n\\n\\n\\n\\n\\n\\n\\n\\n\\n\\n\\n\\n\\n\\n\\nCHỨNG NHẬN\\n\\n                                Chúng Tôi ứng dụng Quy Chuẩn Quốc Tế vào Quy Trình Làm Việc                            \\n\\n                                To guarantee the best level of service and beyond client expectations, we implement worldwide industry standards including ISO 27001:2013, ISO 9001:2015, CMMi Level 5, and AWS Cloud certificates in operation and management. These serve as concrete evidence of our ongoing efforts to improve our performance and provide our partners with the highest quality of service.                            \\n\\n\\n\\n\\n\\n\\n\\n\\n\\n\\n\\n\\n\\n\\n\\n\\n\\n\\n\\n\\n\\n\\n\\n\\n\\n\\n\\n\\n\\n\\n\\n\\n\\n\\n\\n\\n\\n\\n\\n\\n\\n\\n\\n\\n\\n\\n\\n\\n\\n\\n\\n\\n\\n\\n\\n\\n\\n\\n\\n\\n\\n\\n                            TRỤ SỞ & VĂN PHÒNG                        \\n\\n                            Sự Hiện Diện Toàn Cầu của Chúng Tôi                        \\n\\n\\n\\n                                    Hà Nội (Trụ sở chính)                                \\n\\n                                    Tầng 7 – 10, Tòa nhà CMC, 11 Duy Tân, P. Dịch Vọng Hậu, Q. Cầu Giấy                                \\n\\n\\n\\n                                    Đà Nẵng                                \\n\\n                                    Tòa nhà G8 Golden, 65 Hải Phòng, P. Thạch Thang, Q. Hải Châu                                \\n\\n\\n\\n                                    Thành phố Hồ Chí Minh                                \\n\\n                                    CMC Creative Space, Đường 19, Khu Chế Xuất Tân Thuận, Phường Tân Thuận Đông, Quận 7                                \\n\\n\\n\\n                                    Tokyo, Nhật Bản                                \\n\\n                                    Sumitomo Fudosan Osaki Twin Bldg. East 7F, 5-1-18, Kitashinagawa, Shinagawa-ku, Tokyo, 141-0001                                \\n\\n\\n\\n                                    Osaka, Nhật Bản                                \\n\\n                                    Midosuji Frontier Bldg. 4F, 1-13-22 Sonezakishinchi, Kita-ku, Osaka, 530-0002                                \\n\\n\\n\\n                                    Singapore                                \\n\\n                                    Hong Leong Building #09-01, 16 Raffles Quay, Singapore 048581                                \\n\\n\\n\\n                                    Seoul, Korea                                \\n\\n                                    Signature Tower, West Wing, 100 Cheonggyecheon-ro, Jung-gu, Seoul, Korea                                \\n\\n\\n\\n\\n\\n\\n\\n\\n\\n\\n\\n\\n\\nMaximize Your ROI  in the Cloud\\nLet's Chat!\\n\\n\\n\\n\\n\\n\\n\\n\\n\\n\\n\\n\\n\\n\\n\\n\\n\\n\\n\\n\\n\\n\\n \\n\\n\\nKỹ thuật phần mềm đẳng cấp thế giới\\n\\nPhát triển phần mềm theo yêu cầu\\nBảo trì phần mềm\\nLegacy Migration\\nDịch vụ kiểm thử phần mềm\\n\\n\\n\\n\\n\\nDịch vụ chuyển đổi số\\n\\nDịch vụ quản lý đám mây\\nData & Analytics\\nTư vấn AI & Tích hợp\\nDịch vụ RPA\\nLow Code\\n\\n\\n\\n\\n\\nGiải pháp tiên tiến\\n\\nIoT smart device – CIVAMs face\\nCMC Social Listening\\nCMC Chatbot\\nC-ID Reader\\nC-CA\\nSOC\\n\\n\\n\\n\\n\\nMô hình\\n\\nProject-based\\nStaff Augmentation\\nHybrid\\nResults-based\\n\\n\\n\\n\\n\\n \\n\\nVề chúng tôiCMC Global\\nCMC Corp\\nCompany profile\\n \\n\\n\\n\\nDự ánCâu chuyện thành công\\nNgành/Lĩnh vực\\nQuy mô doanh nghiệp\\n \\n\\nTài NguyênBlog\\nE-books & Whitepapers\\nTin tức & Sự kiện\\n \\n\\nTuyển dụngTuyển dụng\\n \\n\\n\\n\\n\\n\\n\\n\\n\\n\\n\\n\\n\\n\\n\\n\\n\\n\\n\\n\\n\\n\\n\\n\\n\\n\\n\\n\\n\\n\\n\\n\\t\\t\\t\\t\\t\\t\\t\\t\\t\\t\\t\\t\\t\\tCopyright ©2023 CMC Global. All rights reserved.\\t\\t\\t\\t\\t\\t\\t\\t\\t\\t\\t\\t\\n\\n\\n\\n\\n\\n\\n\\n\\n\\n\\n\\n\\n\\n\\n\\n\\n\\n\\n\\n\\n\\n\\n\\n\\n\\n\\n\\n\\n\\n\\n\")]"
      ]
     },
     "execution_count": 5,
     "metadata": {},
     "output_type": "execute_result"
    }
   ],
   "source": [
    "docs = load_documents(urls)\n",
    "docs"
   ]
  },
  {
   "cell_type": "code",
   "execution_count": 26,
   "metadata": {},
   "outputs": [
    {
     "ename": "NameError",
     "evalue": "name 'create_vectordb' is not defined",
     "output_type": "error",
     "traceback": [
      "\u001b[1;31m---------------------------------------------------------------------------\u001b[0m",
      "\u001b[1;31mNameError\u001b[0m                                 Traceback (most recent call last)",
      "Cell \u001b[1;32mIn[26], line 1\u001b[0m\n\u001b[1;32m----> 1\u001b[0m vectordb \u001b[38;5;241m=\u001b[39m \u001b[43mcreate_vectordb\u001b[49m(collection_name\u001b[38;5;241m=\u001b[39m\u001b[38;5;124m\"\u001b[39m\u001b[38;5;124mcmcglobal_aboutus\u001b[39m\u001b[38;5;124m\"\u001b[39m, docs\u001b[38;5;241m=\u001b[39mdocs)\n",
      "\u001b[1;31mNameError\u001b[0m: name 'create_vectordb' is not defined"
     ]
    }
   ],
   "source": [
    "vectordb = create_vectordb(collection_name=\"cmcglobal_aboutus\", docs=docs)"
   ]
  },
  {
   "cell_type": "code",
   "execution_count": 12,
   "metadata": {},
   "outputs": [],
   "source": [
    "persist_directory = \"../persist\"\n",
    "vectordb = Chroma(\n",
    "        persist_directory=persist_directory,\n",
    "        embedding_function=get_embeddings(),\n",
    "        collection_name='cmcglobal_aboutus',\n",
    "    )"
   ]
  },
  {
   "cell_type": "code",
   "execution_count": 13,
   "metadata": {},
   "outputs": [
    {
     "data": {
      "text/plain": [
       "VectorStoreRetriever(tags=['Chroma', 'OpenAIEmbeddings'], vectorstore=<langchain_community.vectorstores.chroma.Chroma object at 0x000001E7A947B050>, search_kwargs={})"
      ]
     },
     "execution_count": 13,
     "metadata": {},
     "output_type": "execute_result"
    }
   ],
   "source": [
    "vectordb.as_retriever()"
   ]
  },
  {
   "cell_type": "code",
   "execution_count": 24,
   "metadata": {},
   "outputs": [],
   "source": [
    "session_id = \"abc\"\n",
    "question = \"Ý tôi là từ năm 2030\""
   ]
  },
  {
   "cell_type": "code",
   "execution_count": 25,
   "metadata": {},
   "outputs": [
    {
     "data": {
      "text/plain": [
       "{'context': [Document(metadata={'description': 'CMC Global là đối tác công nghệ đáng tin cậy với hơn 30 năm kinh nghiệm. Đội ngũ chuyên gia của chúng tôi cung cấp các giải pháp đổi mới để giúp doanh nghiệp phát triển trong thế giới số. Tìm hiểu thêm về sứ mệnh và giá trị của chúng tôi. Liên hệ với chúng tôi ngay hôm nay.', 'language': 'vi', 'source': 'https://cmcglobal.com.vn/vi/ve-chung-toi/', 'title': 'About us vi - CMC Global'}, page_content='CMC Global nhận Danh hiệu Sao Khuê 2022 hạng mục “Dịch vụ Xuất khẩu phần mềm”.                        \\n\\n                            Tháng 5, 2022                        \\n\\n                            CMC Global khai trương văn phòng mới tại CMC Creative Space, tọa lạc tại phường Tân Thuận – nơi được mệnh danh là “Thung lũng Silicon” TP.HCM.                        \\n\\n\\n\\n\\n\\n                            GIÁ TRỊ CỐT LÕI                        \\n\\n                        Mọi hành động của người CMC đều xuất phát từ trái tim  Hướng Khách Hàng. Bằng khát khao và đam mê Sáng Tạo không ngừng nghỉ, người CMC quyết tâm vươn tới tốc độ nhanh nhất. Tốc Độ Ánh Sáng trong cả tư duy và hành động để truyền cảm hứng và thực hiện tốt những Cam Kết của mình.                        \\n\\n\\n\\n\\n\\n\\n\\n                                        Hướng Khách Hàng'),\n",
       "  Document(metadata={'description': 'CMC Global là đối tác công nghệ đáng tin cậy với hơn 30 năm kinh nghiệm. Đội ngũ chuyên gia của chúng tôi cung cấp các giải pháp đổi mới để giúp doanh nghiệp phát triển trong thế giới số. Tìm hiểu thêm về sứ mệnh và giá trị của chúng tôi. Liên hệ với chúng tôi ngay hôm nay.', 'language': 'vi', 'source': 'https://cmcglobal.com.vn/vi/ve-chung-toi/', 'title': 'About us vi - CMC Global'}, page_content='CMC Global nhận Danh hiệu Sao Khuê 2022 hạng mục “Dịch vụ Xuất khẩu phần mềm”.                        \\n\\n                            Tháng 5, 2022                        \\n\\n                            CMC Global khai trương văn phòng mới tại CMC Creative Space, tọa lạc tại phường Tân Thuận – nơi được mệnh danh là “Thung lũng Silicon” TP.HCM.                        \\n\\n\\n\\n\\n\\n                            GIÁ TRỊ CỐT LÕI                        \\n\\n                        Mọi hành động của người CMC đều xuất phát từ trái tim  Hướng Khách Hàng. Bằng khát khao và đam mê Sáng Tạo không ngừng nghỉ, người CMC quyết tâm vươn tới tốc độ nhanh nhất. Tốc Độ Ánh Sáng trong cả tư duy và hành động để truyền cảm hứng và thực hiện tốt những Cam Kết của mình.                        \\n\\n\\n\\n\\n\\n\\n\\n                                        Hướng Khách Hàng'),\n",
       "  Document(metadata={'description': 'CMC Global là đối tác công nghệ đáng tin cậy với hơn 30 năm kinh nghiệm. Đội ngũ chuyên gia của chúng tôi cung cấp các giải pháp đổi mới để giúp doanh nghiệp phát triển trong thế giới số. Tìm hiểu thêm về sứ mệnh và giá trị của chúng tôi. Liên hệ với chúng tôi ngay hôm nay.', 'language': 'vi', 'source': 'https://cmcglobal.com.vn/vi/ve-chung-toi/', 'title': 'About us vi - CMC Global'}, page_content='CMC Global nhận Danh hiệu Sao Khuê 2022 hạng mục “Dịch vụ Xuất khẩu phần mềm”.                        \\n\\n                            Tháng 5, 2022                        \\n\\n                            CMC Global khai trương văn phòng mới tại CMC Creative Space, tọa lạc tại phường Tân Thuận – nơi được mệnh danh là “Thung lũng Silicon” TP.HCM.                        \\n\\n\\n\\n\\n\\n                            GIÁ TRỊ CỐT LÕI                        \\n\\n                        Mọi hành động của người CMC đều xuất phát từ trái tim  Hướng Khách Hàng. Bằng khát khao và đam mê Sáng Tạo không ngừng nghỉ, người CMC quyết tâm vươn tới tốc độ nhanh nhất. Tốc Độ Ánh Sáng trong cả tư duy và hành động để truyền cảm hứng và thực hiện tốt những Cam Kết của mình.                        \\n\\n\\n\\n\\n\\n\\n\\n                                        Hướng Khách Hàng'),\n",
       "  Document(metadata={'description': 'CMC Global là đối tác công nghệ đáng tin cậy với hơn 30 năm kinh nghiệm. Đội ngũ chuyên gia của chúng tôi cung cấp các giải pháp đổi mới để giúp doanh nghiệp phát triển trong thế giới số. Tìm hiểu thêm về sứ mệnh và giá trị của chúng tôi. Liên hệ với chúng tôi ngay hôm nay.', 'language': 'vi', 'source': 'https://cmcglobal.com.vn/vi/ve-chung-toi/', 'title': 'About us vi - CMC Global'}, page_content='CMC Global nhận Danh hiệu Sao Khuê 2022 hạng mục “Dịch vụ Xuất khẩu phần mềm”.                        \\n\\n                            Tháng 5, 2022                        \\n\\n                            CMC Global khai trương văn phòng mới tại CMC Creative Space, tọa lạc tại phường Tân Thuận – nơi được mệnh danh là “Thung lũng Silicon” TP.HCM.                        \\n\\n\\n\\n\\n\\n                            GIÁ TRỊ CỐT LÕI                        \\n\\n                        Mọi hành động của người CMC đều xuất phát từ trái tim  Hướng Khách Hàng. Bằng khát khao và đam mê Sáng Tạo không ngừng nghỉ, người CMC quyết tâm vươn tới tốc độ nhanh nhất. Tốc Độ Ánh Sáng trong cả tư duy và hành động để truyền cảm hứng và thực hiện tốt những Cam Kết của mình.                        \\n\\n\\n\\n\\n\\n\\n\\n                                        Hướng Khách Hàng')],\n",
       " 'question': 'Xin lỗi, nhưng tôi không thể cung cấp thông tin về các sự kiện hoặc thành tựu từ năm 2030 trở đi, vì dữ liệu của tôi chỉ được cập nhật đến tháng 10 năm 2023. Nếu bạn có câu hỏi khác hoặc cần thông tin về một chủ đề cụ thể, hãy cho tôi biết!',\n",
       " 'chat_history': [{'role': 'human', 'content': 'ông ta bao nhiêu tuỏi'},\n",
       "  {'role': 'ai', 'content': 'Tôi không biết ông ấy bao nhiêu tuổi.'},\n",
       "  {'role': 'human', 'content': 'ông ấy là ông nào'},\n",
       "  {'role': 'ai', 'content': 'Tôi không biết ông ấy là ai.'},\n",
       "  {'role': 'human', 'content': 'ai là giám đốc CMC'},\n",
       "  {'role': 'ai',\n",
       "   'content': 'Ông Đặng Ngọc Bảo hiện đang giữ chức Tổng Giám đốc của CMC Global.'},\n",
       "  {'role': 'human', 'content': 'ông ấy còn giữ chức vụ gì nữa'},\n",
       "  {'role': 'ai',\n",
       "   'content': 'Tôi không biết ông Đặng Ngọc Bảo có giữ chức vụ nào khác ngoài Tổng Giám đốc của CMC Global hay không.'},\n",
       "  {'role': 'human', 'content': 'vậy còn các lãnh đạo khác'},\n",
       "  {'role': 'ai',\n",
       "   'content': 'Ngoài ông Đặng Ngọc Bảo, các lãnh đạo khác của CMC Global bao gồm ông Hồ Thanh Tùng (Tổng giám đốc Tập đoàn CMC), ông Nguyễn Việt Bách (Phó Chủ tịch/ Giám đốc Sản xuất), bà Hoàng Thị Thanh Hoa (Giám đốc Tài chính), và ông Đặng Văn Tú (Giám đốc công nghệ).'},\n",
       "  {'role': 'human', 'content': 'tầm nhìn của CMC'},\n",
       "  {'role': 'ai',\n",
       "   'content': 'Tầm nhìn của CMC là trở thành một trong những tập đoàn công nghệ hàng đầu tại Việt Nam và khu vực, cung cấp các giải pháp công nghệ thông tin và truyền thông tiên tiến, góp phần vào sự phát triển của nền kinh tế số.'},\n",
       "  {'role': 'human', 'content': 'thế còn CMC  Global'},\n",
       "  {'role': 'ai',\n",
       "   'content': 'Tầm nhìn của CMC Global là trở thành công ty dịch vụ IT hàng đầu tại Việt Nam, nằm trong top 10 khu vực, và dẫn đầu về khả năng triển khai các giải pháp công nghệ mới như AI, Cloud và chuyển đổi số.'},\n",
       "  {'role': 'human', 'content': 'các công ty khác trong hệ sinh thái thì sao'},\n",
       "  {'role': 'ai',\n",
       "   'content': 'Tôi không biết các công ty khác trong hệ sinh thái của CMC.'},\n",
       "  {'role': 'human',\n",
       "   'content': 'giới thiệu các sản phẩm mà CMC và CMC global cung cấp'},\n",
       "  {'role': 'ai',\n",
       "   'content': 'CMC và CMC Global cung cấp nhiều sản phẩm và dịch vụ trong lĩnh vực công nghệ thông tin, bao gồm:\\n\\n1. **Giải pháp phần mềm**: Phát triển phần mềm tùy chỉnh, ứng dụng di động, và hệ thống quản lý doanh nghiệp.\\n2. **Dịch vụ đám mây**: Cung cấp hạ tầng và nền tảng đám mây, bao gồm dịch vụ lưu trữ và xử lý dữ liệu.\\n3. **An ninh mạng**: Giải pháp bảo mật thông tin, bảo vệ hệ thống và dữ liệu khỏi các mối đe dọa.\\n4. **Chuyển đổi số**: Tư vấn và triển khai các giải pháp chuyển đổi số cho doanh nghiệp.\\n5. **Giải pháp AI và Big Data**: Phân tích dữ liệu lớn và ứng dụng trí tuệ nhân tạo trong kinh doanh.\\n6. **Dịch vụ IT Outsourcing**: Cung cấp dịch vụ gia công công nghệ thông tin cho các doanh nghiệp.\\n\\nCác sản phẩm và dịch vụ này nhằm hỗ trợ doanh nghiệp tối ưu hóa quy trình hoạt động và nâng cao hiệu quả kinh doanh.'},\n",
       "  {'role': 'human',\n",
       "   'content': '\\ngiới thiệu các sản phẩm mà CMC và CMC global cung cấp'},\n",
       "  {'role': 'ai',\n",
       "   'content': 'CMC và CMC Global cung cấp một loạt các sản phẩm và dịch vụ trong lĩnh vực công nghệ thông tin, bao gồm:\\n\\n1. **Giải pháp phần mềm**: Phát triển phần mềm tùy chỉnh, ứng dụng di động, và hệ thống quản lý doanh nghiệp.\\n2. **Dịch vụ đám mây**: Cung cấp hạ tầng và nền tảng đám mây, bao gồm dịch vụ lưu trữ và xử lý dữ liệu.\\n3. **An ninh mạng**: Giải pháp bảo mật thông tin, bảo vệ hệ thống và dữ liệu khỏi các mối đe dọa.\\n4. **Chuyển đổi số**: Tư vấn và triển khai các giải pháp chuyển đổi số cho doanh nghiệp.\\n5. **Giải pháp AI và Big Data**: Phân tích dữ liệu lớn và ứng dụng trí tuệ nhân tạo trong kinh doanh.\\n6. **Dịch vụ IT Outsourcing**: Cung cấp dịch vụ gia công công nghệ thông tin cho các doanh nghiệp.\\n\\nCác sản phẩm và dịch vụ này nhằm hỗ trợ doanh nghiệp tối ưu hóa quy trình hoạt động và nâng cao hiệu quả kinh doanh.'},\n",
       "  {'role': 'human', 'content': 'phân biệt CMC vs CMC global'},\n",
       "  {'role': 'ai',\n",
       "   'content': 'CMC và CMC Global là hai đơn vị thuộc Tập đoàn CMC, nhưng có những điểm khác biệt nhất định:\\n\\n1. **CMC**: Là Tập đoàn CMC, hoạt động chủ yếu trong lĩnh vực công nghệ thông tin và truyền thông tại Việt Nam, cung cấp các giải pháp công nghệ, dịch vụ viễn thông, và sản phẩm phần mềm cho thị trường nội địa.\\n\\n2. **CMC Global**: Là công ty con của Tập đoàn CMC, tập trung vào việc cung cấp dịch vụ công nghệ thông tin ra thị trường quốc tế, chuyên về xuất khẩu dịch vụ IT, phát triển phần mềm, và các giải pháp công nghệ cho khách hàng toàn cầu.\\n\\nTóm lại, CMC phục vụ thị trường nội địa, trong khi CMC Global hướng tới thị trường quốc tế.'},\n",
       "  {'role': 'human', 'content': 'phân biệt CMC vs CMC global'},\n",
       "  {'role': 'ai',\n",
       "   'content': 'CMC và CMC Global là hai đơn vị thuộc Tập đoàn CMC, nhưng có những điểm khác biệt như sau:\\n\\n1. **CMC**: Là Tập đoàn CMC, hoạt động chủ yếu trong lĩnh vực công nghệ thông tin và truyền thông tại Việt Nam, cung cấp các giải pháp công nghệ, dịch vụ viễn thông, và sản phẩm phần mềm cho thị trường nội địa.\\n\\n2. **CMC Global**: Là công ty con của Tập đoàn CMC, tập trung vào việc cung cấp dịch vụ công nghệ thông tin ra thị trường quốc tế, chuyên về xuất khẩu dịch vụ IT, phát triển phần mềm, và các giải pháp công nghệ cho khách hàng toàn cầu.\\n\\nTóm lại, CMC chủ yếu phục vụ thị trường nội địa Việt Nam, trong khi CMC Global hướng tới thị trường quốc tế.'},\n",
       "  {'role': 'human', 'content': 'CMC bao nhiêu năm tuổi?'},\n",
       "  {'role': 'ai',\n",
       "   'content': 'Tập đoàn CMC được thành lập vào năm 1993, vì vậy tính đến năm 2023, CMC đã được 30 năm tuổi.'},\n",
       "  {'role': 'human', 'content': 'thế còn CMC global'},\n",
       "  {'role': 'ai',\n",
       "   'content': 'Đúng vậy, CMC Global được thành lập vào năm 2017, nên tính đến năm 2023, công ty đã được 6 năm tuổi.'},\n",
       "  {'role': 'human', 'content': 'vậy công ty nào lâu đời hơn'},\n",
       "  {'role': 'ai',\n",
       "   'content': 'Tập đoàn CMC lâu đời hơn, được thành lập vào năm 1993, trong khi CMC Global được thành lập vào năm 2017.'},\n",
       "  {'role': 'human', 'content': 'các đối tác của họ'},\n",
       "  {'role': 'ai',\n",
       "   'content': 'CMC và CMC Global có hơn 35 đối tác kinh doanh, nhưng thông tin cụ thể về các đối tác này không được cung cấp.'},\n",
       "  {'role': 'human', 'content': 'lịch sử phát triển của CMC global'},\n",
       "  {'role': 'ai',\n",
       "   'content': 'CMC Global được thành lập vào năm 2017 như một công ty con của Tập đoàn CMC, với mục tiêu mở rộng hoạt động ra thị trường quốc tế. Kể từ khi thành lập, công ty đã nhanh chóng phát triển và cung cấp các dịch vụ công nghệ thông tin, bao gồm phát triển phần mềm, dịch vụ đám mây, và giải pháp chuyển đổi số. CMC Global đã xây dựng mối quan hệ đối tác với nhiều doanh nghiệp quốc tế và tham gia vào các dự án lớn, nâng cao vị thế của mình trong lĩnh vực công nghệ thông tin toàn cầu.'},\n",
       "  {'role': 'human', 'content': 'tôi cần timeline'},\n",
       "  {'role': 'ai',\n",
       "   'content': 'Dưới đây là một timeline tóm tắt lịch sử phát triển của CMC Global:\\n\\n- **2017**: CMC Global được thành lập như một công ty con của Tập đoàn CMC, với mục tiêu mở rộng hoạt động ra thị trường quốc tế.\\n- **2018**: Bắt đầu cung cấp dịch vụ phát triển phần mềm và giải pháp công nghệ thông tin cho khách hàng quốc tế.\\n- **2019**: Mở rộng danh mục dịch vụ, bao gồm dịch vụ đám mây và chuyển đổi số.\\n- **2020**: Thiết lập mối quan hệ đối tác với nhiều doanh nghiệp quốc tế, tham gia vào các dự án lớn.\\n- **2021**: Đạt được các chứng nhận quốc tế về chất lượng dịch vụ và bảo mật thông tin.\\n- **2022**: Tăng cường đội ngũ nhân sự và mở rộng thị trường sang các khu vực mới.\\n- **2023**: Tiếp tục phát triển và nâng cao vị thế trong lĩnh vực công nghệ thông tin toàn cầu.\\n\\nTimeline này chỉ mang tính chất tóm tắt và có thể không đầy đủ tất cả các sự kiện quan trọng.'},\n",
       "  {'role': 'human', 'content': 'dấu mốc qua từng năm'},\n",
       "  {'role': 'ai',\n",
       "   'content': 'Dưới đây là các dấu mốc quan trọng qua từng năm trong lịch sử phát triển của CMC Global:\\n\\n- **2017**: \\n  - CMC Global được thành lập như một công ty con của Tập đoàn CMC, với mục tiêu mở rộng ra thị trường quốc tế.\\n\\n- **2018**: \\n  - Bắt đầu cung cấp dịch vụ phát triển phần mềm và giải pháp công nghệ thông tin cho khách hàng quốc tế.\\n\\n- **2019**: \\n  - Mở rộng danh mục dịch vụ, bao gồm dịch vụ đám mây và chuyển đổi số.\\n\\n- **2020**: \\n  - Thiết lập mối quan hệ đối tác với nhiều doanh nghiệp quốc tế và tham gia vào các dự án lớn.\\n\\n- **2021**: \\n  - Đạt được các chứng nhận quốc tế về chất lượng dịch vụ và bảo mật thông tin.\\n\\n- **2022**: \\n  - Tăng cường đội ngũ nhân sự và mở rộng thị trường sang các khu vực mới.\\n\\n- **2023**: \\n  - Tiếp tục phát triển và nâng cao vị thế trong lĩnh vực công nghệ thông tin toàn cầu.\\n\\nCác dấu mốc này phản ánh sự phát triển và mở rộng của CMC Global trong những năm qua.'},\n",
       "  {'role': 'human',\n",
       "   'content': 'dấu mốc thành tựu của CMC global kể từ khi thành lập qua các năm'},\n",
       "  {'role': 'ai',\n",
       "   'content': 'Dưới đây là các dấu mốc thành tựu của CMC Global kể từ khi thành lập:\\n\\n- **2017**: \\n  - CMC Global được thành lập, đánh dấu bước đầu tiên trong việc mở rộng hoạt động ra thị trường quốc tế.\\n\\n- **2018**: \\n  - Bắt đầu cung cấp dịch vụ phát triển phần mềm cho khách hàng quốc tế, khẳng định vị thế trong lĩnh vực công nghệ thông tin.\\n\\n- **2019**: \\n  - Mở rộng danh mục dịch vụ, bao gồm các giải pháp đám mây và chuyển đổi số, thu hút thêm nhiều khách hàng.\\n\\n- **2020**: \\n  - Thiết lập mối quan hệ đối tác chiến lược với các doanh nghiệp quốc tế, tham gia vào các dự án lớn và nâng cao uy tín.\\n\\n- **2021**: \\n  - Đạt được các chứng nhận quốc tế về chất lượng dịch vụ và bảo mật thông tin, củng cố niềm tin của khách hàng.\\n\\n- **2022**: \\n  - Tăng cường đội ngũ nhân sự, mở rộng văn phòng tại các thị trường mới, nâng cao khả năng phục vụ khách hàng.\\n\\n- **2023**: \\n  - Tiếp tục phát triển và mở rộng thị trường, khẳng định vị thế là một trong những công ty dịch vụ IT hàng đầu tại Việt Nam và khu vực.\\n\\nCác dấu mốc này thể hiện sự phát triển và thành công của CMC Global trong việc cung cấp dịch vụ công nghệ thông tin ra thị trường quốc tế.'},\n",
       "  {'role': 'human', 'content': 'thế còn CMC'},\n",
       "  {'role': 'ai',\n",
       "   'content': 'Dưới đây là các dấu mốc thành tựu của Tập đoàn CMC kể từ khi thành lập:\\n\\n- **1993**: \\n  - Tập đoàn CMC được thành lập, đánh dấu sự ra đời của một trong những công ty công nghệ thông tin đầu tiên tại Việt Nam.\\n\\n- **1995**: \\n  - CMC trở thành nhà cung cấp dịch vụ Internet đầu tiên tại Việt Nam.\\n\\n- **2000**: \\n  - Khởi động các dự án lớn trong lĩnh vực phần mềm và giải pháp công nghệ thông tin cho doanh nghiệp.\\n\\n- **2005**: \\n  - Mở rộng hoạt động sang lĩnh vực viễn thông và công nghệ thông tin, cung cấp các giải pháp tích hợp.\\n\\n- **2010**: \\n  - Được công nhận là một trong những công ty hàng đầu trong lĩnh vực công nghệ thông tin tại Việt Nam.\\n\\n- **2015**: \\n  - Đạt được nhiều giải thưởng về chất lượng dịch vụ và đổi mới sáng tạo trong công nghệ.\\n\\n- **2017**: \\n  - Thành lập CMC Global, mở rộng hoạt động ra thị trường quốc tế.\\n\\n- **2020**: \\n  - Đẩy mạnh chuyển đổi số và cung cấp các giải pháp công nghệ tiên tiến cho doanh nghiệp.\\n\\n- **2023**: \\n  - Tiếp tục khẳng định vị thế là một trong những tập đoàn công nghệ hàng đầu tại Việt Nam và khu vực, với nhiều sản phẩm và dịch vụ đa dạng.\\n\\nCác dấu mốc này phản ánh sự phát triển và thành công của Tập đoàn CMC trong suốt quá trình hoạt động của mình.'},\n",
       "  {'role': 'human', 'content': 'tôi đã hỏi bạn những gì'},\n",
       "  {'role': 'human', 'content': '👤\\ntôi đã hỏi bạn những gì'},\n",
       "  {'role': 'human', 'content': 'hello'}],\n",
       " 'answer': 'Bạn đã hỏi về nhiều chủ đề liên quan đến CMC và CMC Global, bao gồm:\\n\\n1. Tuổi của CMC và CMC Global.\\n2. Tầm nhìn và giá trị của CMC và CMC Global.\\n3. Các sản phẩm và dịch vụ mà CMC và CMC Global cung cấp.\\n4. Sự khác biệt giữa CMC và CMC Global.\\n5. Lịch sử phát triển và các dấu mốc thành tựu của CMC Global và CMC.\\n6. Các đối tác của CMC và CMC Global.\\n\\nNếu bạn cần thêm thông tin hoặc có câu hỏi khác, hãy cho tôi biết!'}"
      ]
     },
     "execution_count": 25,
     "metadata": {},
     "output_type": "execute_result"
    }
   ],
   "source": [
    "get_response(session_id, question)"
   ]
  },
  {
   "cell_type": "code",
   "execution_count": null,
   "metadata": {},
   "outputs": [],
   "source": []
  }
 ],
 "metadata": {
  "kernelspec": {
   "display_name": "env-01",
   "language": "python",
   "name": "python3"
  },
  "language_info": {
   "codemirror_mode": {
    "name": "ipython",
    "version": 3
   },
   "file_extension": ".py",
   "mimetype": "text/x-python",
   "name": "python",
   "nbconvert_exporter": "python",
   "pygments_lexer": "ipython3",
   "version": "3.11.5"
  }
 },
 "nbformat": 4,
 "nbformat_minor": 2
}
